{
 "cells": [
  {
   "cell_type": "code",
   "execution_count": 2,
   "metadata": {},
   "outputs": [],
   "source": [
    "import pandas as pd\n"
   ]
  },
  {
   "cell_type": "code",
   "execution_count": 3,
   "metadata": {},
   "outputs": [
    {
     "data": {
      "text/html": [
       "<div>\n",
       "<style scoped>\n",
       "    .dataframe tbody tr th:only-of-type {\n",
       "        vertical-align: middle;\n",
       "    }\n",
       "\n",
       "    .dataframe tbody tr th {\n",
       "        vertical-align: top;\n",
       "    }\n",
       "\n",
       "    .dataframe thead th {\n",
       "        text-align: right;\n",
       "    }\n",
       "</style>\n",
       "<table border=\"1\" class=\"dataframe\">\n",
       "  <thead>\n",
       "    <tr style=\"text-align: right;\">\n",
       "      <th></th>\n",
       "      <th>醫事機構代碼</th>\n",
       "      <th>成人口罩剩餘數</th>\n",
       "      <th>兒童口罩剩餘數</th>\n",
       "      <th>來源資料時間</th>\n",
       "    </tr>\n",
       "  </thead>\n",
       "  <tbody>\n",
       "    <tr>\n",
       "      <th>0</th>\n",
       "      <td>0145080011</td>\n",
       "      <td>2179</td>\n",
       "      <td>1608</td>\n",
       "      <td>2020/03/04 22:00:40</td>\n",
       "    </tr>\n",
       "    <tr>\n",
       "      <th>1</th>\n",
       "      <td>0291010010</td>\n",
       "      <td>606</td>\n",
       "      <td>864</td>\n",
       "      <td>2020/03/04 22:00:40</td>\n",
       "    </tr>\n",
       "    <tr>\n",
       "      <th>2</th>\n",
       "      <td>2101010013</td>\n",
       "      <td>149</td>\n",
       "      <td>1837</td>\n",
       "      <td>2020/03/04 22:00:40</td>\n",
       "    </tr>\n",
       "    <tr>\n",
       "      <th>3</th>\n",
       "      <td>2101020019</td>\n",
       "      <td>16</td>\n",
       "      <td>1448</td>\n",
       "      <td>2020/03/04 22:00:40</td>\n",
       "    </tr>\n",
       "    <tr>\n",
       "      <th>4</th>\n",
       "      <td>2101090011</td>\n",
       "      <td>0</td>\n",
       "      <td>1160</td>\n",
       "      <td>2020/03/04 22:00:40</td>\n",
       "    </tr>\n",
       "  </tbody>\n",
       "</table>\n",
       "</div>"
      ],
      "text/plain": [
       "       醫事機構代碼  成人口罩剩餘數  兒童口罩剩餘數               來源資料時間\n",
       "0  0145080011     2179     1608  2020/03/04 22:00:40\n",
       "1  0291010010      606      864  2020/03/04 22:00:40\n",
       "2  2101010013      149     1837  2020/03/04 22:00:40\n",
       "3  2101020019       16     1448  2020/03/04 22:00:40\n",
       "4  2101090011        0     1160  2020/03/04 22:00:40"
      ]
     },
     "execution_count": 3,
     "metadata": {},
     "output_type": "execute_result"
    }
   ],
   "source": [
    "\n",
    "data = pd.read_csv('0304.csv')\n",
    "data.head()"
   ]
  },
  {
   "cell_type": "code",
   "execution_count": 4,
   "metadata": {},
   "outputs": [],
   "source": [
    "data_group = data.groupby('醫事機構代碼')\n",
    "index = data_group['醫事機構代碼'].unique()"
   ]
  },
  {
   "cell_type": "code",
   "execution_count": 5,
   "metadata": {},
   "outputs": [
    {
     "data": {
      "text/html": [
       "<div>\n",
       "<style scoped>\n",
       "    .dataframe tbody tr th:only-of-type {\n",
       "        vertical-align: middle;\n",
       "    }\n",
       "\n",
       "    .dataframe tbody tr th {\n",
       "        vertical-align: top;\n",
       "    }\n",
       "\n",
       "    .dataframe thead th {\n",
       "        text-align: right;\n",
       "    }\n",
       "</style>\n",
       "<table border=\"1\" class=\"dataframe\">\n",
       "  <thead>\n",
       "    <tr style=\"text-align: right;\">\n",
       "      <th></th>\n",
       "      <th>醫事機構代碼</th>\n",
       "      <th>成人口罩剩餘數</th>\n",
       "      <th>兒童口罩剩餘數</th>\n",
       "      <th>來源資料時間</th>\n",
       "    </tr>\n",
       "  </thead>\n",
       "  <tbody>\n",
       "    <tr>\n",
       "      <th>0</th>\n",
       "      <td>0145080011</td>\n",
       "      <td>2179</td>\n",
       "      <td>1608</td>\n",
       "      <td>2020/03/04 22:00:40</td>\n",
       "    </tr>\n",
       "    <tr>\n",
       "      <th>1</th>\n",
       "      <td>0291010010</td>\n",
       "      <td>606</td>\n",
       "      <td>864</td>\n",
       "      <td>2020/03/04 22:00:40</td>\n",
       "    </tr>\n",
       "    <tr>\n",
       "      <th>2</th>\n",
       "      <td>2101010013</td>\n",
       "      <td>149</td>\n",
       "      <td>1837</td>\n",
       "      <td>2020/03/04 22:00:40</td>\n",
       "    </tr>\n",
       "    <tr>\n",
       "      <th>3</th>\n",
       "      <td>2101020019</td>\n",
       "      <td>16</td>\n",
       "      <td>1448</td>\n",
       "      <td>2020/03/04 22:00:40</td>\n",
       "    </tr>\n",
       "    <tr>\n",
       "      <th>4</th>\n",
       "      <td>2101090011</td>\n",
       "      <td>0</td>\n",
       "      <td>1160</td>\n",
       "      <td>2020/03/04 22:00:40</td>\n",
       "    </tr>\n",
       "    <tr>\n",
       "      <th>...</th>\n",
       "      <td>...</td>\n",
       "      <td>...</td>\n",
       "      <td>...</td>\n",
       "      <td>...</td>\n",
       "    </tr>\n",
       "    <tr>\n",
       "      <th>1446222</th>\n",
       "      <td>5936051389</td>\n",
       "      <td>1</td>\n",
       "      <td>0</td>\n",
       "      <td>2020/03/04 10:21:39</td>\n",
       "    </tr>\n",
       "    <tr>\n",
       "      <th>1452862</th>\n",
       "      <td>5936040171</td>\n",
       "      <td>0</td>\n",
       "      <td>8</td>\n",
       "      <td>2020/03/04 10:19:11</td>\n",
       "    </tr>\n",
       "    <tr>\n",
       "      <th>1452867</th>\n",
       "      <td>5936051389</td>\n",
       "      <td>1</td>\n",
       "      <td>0</td>\n",
       "      <td>2020/03/04 10:19:11</td>\n",
       "    </tr>\n",
       "    <tr>\n",
       "      <th>1459512</th>\n",
       "      <td>5936051389</td>\n",
       "      <td>3</td>\n",
       "      <td>0</td>\n",
       "      <td>2020/03/04 10:17:11</td>\n",
       "    </tr>\n",
       "    <tr>\n",
       "      <th>1466157</th>\n",
       "      <td>5936051389</td>\n",
       "      <td>7</td>\n",
       "      <td>0</td>\n",
       "      <td>2020/03/04 10:14:41</td>\n",
       "    </tr>\n",
       "  </tbody>\n",
       "</table>\n",
       "<p>33315 rows × 4 columns</p>\n",
       "</div>"
      ],
      "text/plain": [
       "             醫事機構代碼  成人口罩剩餘數  兒童口罩剩餘數               來源資料時間\n",
       "0        0145080011     2179     1608  2020/03/04 22:00:40\n",
       "1        0291010010      606      864  2020/03/04 22:00:40\n",
       "2        2101010013      149     1837  2020/03/04 22:00:40\n",
       "3        2101020019       16     1448  2020/03/04 22:00:40\n",
       "4        2101090011        0     1160  2020/03/04 22:00:40\n",
       "...             ...      ...      ...                  ...\n",
       "1446222  5936051389        1        0  2020/03/04 10:21:39\n",
       "1452862  5936040171        0        8  2020/03/04 10:19:11\n",
       "1452867  5936051389        1        0  2020/03/04 10:19:11\n",
       "1459512  5936051389        3        0  2020/03/04 10:17:11\n",
       "1466157  5936051389        7        0  2020/03/04 10:14:41\n",
       "\n",
       "[33315 rows x 4 columns]"
      ]
     },
     "execution_count": 5,
     "metadata": {},
     "output_type": "execute_result"
    }
   ],
   "source": [
    "data_group = data.groupby('醫事機構代碼')\n",
    "data_group = data_group[['醫事機構代碼', '成人口罩剩餘數','兒童口罩剩餘數','來源資料時間']]\n",
    "data_group.head()"
   ]
  },
  {
   "cell_type": "code",
   "execution_count": 6,
   "metadata": {},
   "outputs": [
    {
     "name": "stdout",
     "output_type": "stream",
     "text": [
      "<class 'numpy.ndarray'>   0145080011\n"
     ]
    }
   ],
   "source": [
    "\n",
    "print(type(index[0]),\" \", index[0][0])"
   ]
  },
  {
   "cell_type": "code",
   "execution_count": 7,
   "metadata": {},
   "outputs": [
    {
     "data": {
      "text/plain": [
       "(223, 4)"
      ]
     },
     "execution_count": 7,
     "metadata": {},
     "output_type": "execute_result"
    }
   ],
   "source": [
    "data_1 = data_group.get_group(index[2][0]).sort_values(by=['來源資料時間'])\n",
    "data_1.shape"
   ]
  },
  {
   "cell_type": "code",
   "execution_count": 9,
   "metadata": {},
   "outputs": [
    {
     "data": {
      "image/png": "[encoded data removed]",
      "text/plain": [
       "<Figure size 1152x288 with 2 Axes>"
      ]
     },
     "metadata": {
      "needs_background": "light"
     },
     "output_type": "display_data"
    }
   ],
   "source": [
    "import matplotlib.pyplot as plt\n",
    "\n",
    "\n",
    "\n",
    "y_adult = data_1['成人口罩剩餘數']\n",
    "y_child = data_1['兒童口罩剩餘數']\n",
    "\n",
    "t = data_1['來源資料時間']\n",
    "t = pd.to_datetime(t)\n",
    "date = t.dt.strftime(\"%Y/%m/%d\")\n",
    "t = t.dt.strftime(\"%H:%M:%S\")\n",
    "date = date.iloc[0]\n",
    "\n",
    "fig, axes = plt.subplots(ncols=2, figsize=(16, 4))\n",
    " \n",
    "ax = axes[0]\n",
    "ax.plot(t, y_adult, 'o-')\n",
    "ax.set_title(date+\" adult mask\")\n",
    "fig.autofmt_xdate() \n",
    "\n",
    "ax = axes[1]\n",
    "ax.plot(t, y_child, 'o-')\n",
    "ax.set_title(date+\" child mask\")\n",
    "fig.autofmt_xdate()\n",
    "plt.show()"
   ]
  },
  {
   "cell_type": "code",
   "execution_count": null,
   "metadata": {},
   "outputs": [],
   "source": []
  },
  {
   "cell_type": "code",
   "execution_count": null,
   "metadata": {},
   "outputs": [],
   "source": [
    "\n"
   ]
  }
 ],
 "metadata": {
  "kernelspec": {
   "display_name": "Python 3",
   "language": "python",
   "name": "python3"
  },
  "language_info": {
   "codemirror_mode": {
    "name": "ipython",
    "version": 3
   },
   "file_extension": ".py",
   "mimetype": "text/x-python",
   "name": "python",
   "nbconvert_exporter": "python",
   "pygments_lexer": "ipython3",
   "version": "3.7.4"
  }
 },
 "nbformat": 4,
 "nbformat_minor": 2
}

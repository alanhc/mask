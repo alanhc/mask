{
 "cells": [
  {
   "cell_type": "code",
   "execution_count": 198,
   "metadata": {},
   "outputs": [],
   "source": [
    "import pandas as pd\n"
   ]
  },
  {
   "cell_type": "code",
   "execution_count": 199,
   "metadata": {},
   "outputs": [
    {
     "data": {
      "text/html": [
       "<div>\n",
       "<style scoped>\n",
       "    .dataframe tbody tr th:only-of-type {\n",
       "        vertical-align: middle;\n",
       "    }\n",
       "\n",
       "    .dataframe tbody tr th {\n",
       "        vertical-align: top;\n",
       "    }\n",
       "\n",
       "    .dataframe thead th {\n",
       "        text-align: right;\n",
       "    }\n",
       "</style>\n",
       "<table border=\"1\" class=\"dataframe\">\n",
       "  <thead>\n",
       "    <tr style=\"text-align: right;\">\n",
       "      <th></th>\n",
       "      <th>醫事機構代碼</th>\n",
       "      <th>醫事機構名稱</th>\n",
       "      <th>醫事機構地址</th>\n",
       "      <th>醫事機構電話</th>\n",
       "      <th>成人口罩剩餘數</th>\n",
       "      <th>兒童口罩剩餘數</th>\n",
       "      <th>來源資料時間</th>\n",
       "    </tr>\n",
       "  </thead>\n",
       "  <tbody>\n",
       "    <tr>\n",
       "      <th>0</th>\n",
       "      <td>0145080011</td>\n",
       "      <td>衛生福利部花蓮醫院豐濱原住民分院</td>\n",
       "      <td>花蓮縣豐濱鄉豐濱村光豐路４１號</td>\n",
       "      <td>(03)8358141</td>\n",
       "      <td>2913</td>\n",
       "      <td>1792</td>\n",
       "      <td>2020/02/28 19:46:38</td>\n",
       "    </tr>\n",
       "    <tr>\n",
       "      <th>1</th>\n",
       "      <td>0291010010</td>\n",
       "      <td>連江縣立醫院</td>\n",
       "      <td>連江縣南竿鄉復興村２１７號</td>\n",
       "      <td>(083)623995</td>\n",
       "      <td>240</td>\n",
       "      <td>484</td>\n",
       "      <td>2020/02/28 19:46:38</td>\n",
       "    </tr>\n",
       "    <tr>\n",
       "      <th>2</th>\n",
       "      <td>2101010013</td>\n",
       "      <td>松山健康服務中心</td>\n",
       "      <td>台北市松山區八德路４段６９４號１、２樓</td>\n",
       "      <td>(02)27653147</td>\n",
       "      <td>50</td>\n",
       "      <td>1115</td>\n",
       "      <td>2020/02/28 19:46:38</td>\n",
       "    </tr>\n",
       "    <tr>\n",
       "      <th>3</th>\n",
       "      <td>2101020019</td>\n",
       "      <td>大安健康服務中心</td>\n",
       "      <td>台北市大安區辛亥路３段１５號</td>\n",
       "      <td>(02)27390997</td>\n",
       "      <td>122</td>\n",
       "      <td>880</td>\n",
       "      <td>2020/02/28 19:46:38</td>\n",
       "    </tr>\n",
       "    <tr>\n",
       "      <th>4</th>\n",
       "      <td>2101090011</td>\n",
       "      <td>大同健康服務中心</td>\n",
       "      <td>台北市大同區昌吉街５２號１至２樓</td>\n",
       "      <td>(02)25948971</td>\n",
       "      <td>0</td>\n",
       "      <td>560</td>\n",
       "      <td>2020/02/28 19:46:38</td>\n",
       "    </tr>\n",
       "  </tbody>\n",
       "</table>\n",
       "</div>"
      ],
      "text/plain": [
       "       醫事機構代碼            醫事機構名稱               醫事機構地址        醫事機構電話  成人口罩剩餘數  \\\n",
       "0  0145080011  衛生福利部花蓮醫院豐濱原住民分院      花蓮縣豐濱鄉豐濱村光豐路４１號   (03)8358141     2913   \n",
       "1  0291010010            連江縣立醫院        連江縣南竿鄉復興村２１７號   (083)623995      240   \n",
       "2  2101010013          松山健康服務中心  台北市松山區八德路４段６９４號１、２樓  (02)27653147       50   \n",
       "3  2101020019          大安健康服務中心       台北市大安區辛亥路３段１５號  (02)27390997      122   \n",
       "4  2101090011          大同健康服務中心     台北市大同區昌吉街５２號１至２樓  (02)25948971        0   \n",
       "\n",
       "   兒童口罩剩餘數               來源資料時間  \n",
       "0     1792  2020/02/28 19:46:38  \n",
       "1      484  2020/02/28 19:46:38  \n",
       "2     1115  2020/02/28 19:46:38  \n",
       "3      880  2020/02/28 19:46:38  \n",
       "4      560  2020/02/28 19:46:38  "
      ]
     },
     "execution_count": 199,
     "metadata": {},
     "output_type": "execute_result"
    }
   ],
   "source": [
    "\n",
    "data = pd.read_csv('old.csv')\n",
    "data.head()"
   ]
  },
  {
   "cell_type": "code",
   "execution_count": 200,
   "metadata": {},
   "outputs": [],
   "source": [
    "data_group = data.groupby('醫事機構代碼')\n",
    "index = data_group['醫事機構代碼'].unique()"
   ]
  },
  {
   "cell_type": "code",
   "execution_count": 201,
   "metadata": {},
   "outputs": [
    {
     "data": {
      "text/html": [
       "<div>\n",
       "<style scoped>\n",
       "    .dataframe tbody tr th:only-of-type {\n",
       "        vertical-align: middle;\n",
       "    }\n",
       "\n",
       "    .dataframe tbody tr th {\n",
       "        vertical-align: top;\n",
       "    }\n",
       "\n",
       "    .dataframe thead th {\n",
       "        text-align: right;\n",
       "    }\n",
       "</style>\n",
       "<table border=\"1\" class=\"dataframe\">\n",
       "  <thead>\n",
       "    <tr style=\"text-align: right;\">\n",
       "      <th></th>\n",
       "      <th>醫事機構代碼</th>\n",
       "      <th>成人口罩剩餘數</th>\n",
       "      <th>兒童口罩剩餘數</th>\n",
       "      <th>來源資料時間</th>\n",
       "    </tr>\n",
       "  </thead>\n",
       "  <tbody>\n",
       "    <tr>\n",
       "      <th>0</th>\n",
       "      <td>0145080011</td>\n",
       "      <td>2913</td>\n",
       "      <td>1792</td>\n",
       "      <td>2020/02/28 19:46:38</td>\n",
       "    </tr>\n",
       "    <tr>\n",
       "      <th>1</th>\n",
       "      <td>0291010010</td>\n",
       "      <td>240</td>\n",
       "      <td>484</td>\n",
       "      <td>2020/02/28 19:46:38</td>\n",
       "    </tr>\n",
       "    <tr>\n",
       "      <th>2</th>\n",
       "      <td>2101010013</td>\n",
       "      <td>50</td>\n",
       "      <td>1115</td>\n",
       "      <td>2020/02/28 19:46:38</td>\n",
       "    </tr>\n",
       "    <tr>\n",
       "      <th>3</th>\n",
       "      <td>2101020019</td>\n",
       "      <td>122</td>\n",
       "      <td>880</td>\n",
       "      <td>2020/02/28 19:46:38</td>\n",
       "    </tr>\n",
       "    <tr>\n",
       "      <th>4</th>\n",
       "      <td>2101090011</td>\n",
       "      <td>0</td>\n",
       "      <td>560</td>\n",
       "      <td>2020/02/28 19:46:38</td>\n",
       "    </tr>\n",
       "    <tr>\n",
       "      <th>...</th>\n",
       "      <td>...</td>\n",
       "      <td>...</td>\n",
       "      <td>...</td>\n",
       "      <td>...</td>\n",
       "    </tr>\n",
       "    <tr>\n",
       "      <th>325195</th>\n",
       "      <td>5931102121</td>\n",
       "      <td>0</td>\n",
       "      <td>2</td>\n",
       "      <td>2020/02/28 17:40:38</td>\n",
       "    </tr>\n",
       "    <tr>\n",
       "      <th>332173</th>\n",
       "      <td>5932023647</td>\n",
       "      <td>8</td>\n",
       "      <td>0</td>\n",
       "      <td>2020/02/28 17:38:39</td>\n",
       "    </tr>\n",
       "    <tr>\n",
       "      <th>334425</th>\n",
       "      <td>5946010194</td>\n",
       "      <td>0</td>\n",
       "      <td>4</td>\n",
       "      <td>2020/02/28 17:38:39</td>\n",
       "    </tr>\n",
       "    <tr>\n",
       "      <th>338626</th>\n",
       "      <td>5932023647</td>\n",
       "      <td>10</td>\n",
       "      <td>0</td>\n",
       "      <td>2020/02/28 17:36:08</td>\n",
       "    </tr>\n",
       "    <tr>\n",
       "      <th>340878</th>\n",
       "      <td>5946010194</td>\n",
       "      <td>0</td>\n",
       "      <td>4</td>\n",
       "      <td>2020/02/28 17:36:08</td>\n",
       "    </tr>\n",
       "  </tbody>\n",
       "</table>\n",
       "<p>32314 rows × 4 columns</p>\n",
       "</div>"
      ],
      "text/plain": [
       "            醫事機構代碼  成人口罩剩餘數  兒童口罩剩餘數               來源資料時間\n",
       "0       0145080011     2913     1792  2020/02/28 19:46:38\n",
       "1       0291010010      240      484  2020/02/28 19:46:38\n",
       "2       2101010013       50     1115  2020/02/28 19:46:38\n",
       "3       2101020019      122      880  2020/02/28 19:46:38\n",
       "4       2101090011        0      560  2020/02/28 19:46:38\n",
       "...            ...      ...      ...                  ...\n",
       "325195  5931102121        0        2  2020/02/28 17:40:38\n",
       "332173  5932023647        8        0  2020/02/28 17:38:39\n",
       "334425  5946010194        0        4  2020/02/28 17:38:39\n",
       "338626  5932023647       10        0  2020/02/28 17:36:08\n",
       "340878  5946010194        0        4  2020/02/28 17:36:08\n",
       "\n",
       "[32314 rows x 4 columns]"
      ]
     },
     "execution_count": 201,
     "metadata": {},
     "output_type": "execute_result"
    }
   ],
   "source": [
    "data_group = data.groupby('醫事機構代碼')\n",
    "data_group = data_group[['醫事機構代碼', '成人口罩剩餘數','兒童口罩剩餘數','來源資料時間']]\n",
    "data_group.head()"
   ]
  },
  {
   "cell_type": "code",
   "execution_count": 202,
   "metadata": {},
   "outputs": [
    {
     "name": "stdout",
     "output_type": "stream",
     "text": [
      "<class 'numpy.ndarray'>   0145080011\n"
     ]
    }
   ],
   "source": [
    "\n",
    "print(type(index[0]),\" \", index[0][0])"
   ]
  },
  {
   "cell_type": "code",
   "execution_count": 227,
   "metadata": {},
   "outputs": [
    {
     "data": {
      "text/plain": [
       "(53, 4)"
      ]
     },
     "execution_count": 227,
     "metadata": {},
     "output_type": "execute_result"
    }
   ],
   "source": [
    "data_1 = data_group.get_group(index[2][0])\n",
    "data_1.shape"
   ]
  },
  {
   "cell_type": "code",
   "execution_count": 233,
   "metadata": {},
   "outputs": [
    {
     "data": {
      "image/png": "[encoded data removed]",
      "text/plain": [
       "<Figure size 1152x288 with 2 Axes>"
      ]
     },
     "metadata": {
      "needs_background": "light"
     },
     "output_type": "display_data"
    }
   ],
   "source": [
    "import matplotlib.pyplot as plt\n",
    "import numpy as np\n",
    "import matplotlib.ticker as ticker\n",
    "\n",
    "\n",
    "y_adult = data_1['成人口罩剩餘數']\n",
    "y_child = data_1['兒童口罩剩餘數']\n",
    "\n",
    "t = data_1['來源資料時間']\n",
    "t = pd.to_datetime(t)\n",
    "date = t.dt.strftime(\"%Y/%m/%d\")\n",
    "t = t.dt.strftime(\"%H:%M:%S\")\n",
    "date = date.iloc[0]\n",
    "\n",
    "\n",
    "fig, axes = plt.subplots(ncols=2, figsize=(16, 4))\n",
    "ax = axes[0]\n",
    "ax.plot(t, y_adult, 'o-')\n",
    "ax.set_title(date+\" adult mask\")\n",
    "fig.autofmt_xdate() \n",
    "\n",
    "ax = axes[1]\n",
    "ax.plot(t, y_child, 'o-')\n",
    "ax.set_title(date+\" child mask\")\n",
    "fig.autofmt_xdate()"
   ]
  },
  {
   "cell_type": "code",
   "execution_count": null,
   "metadata": {},
   "outputs": [],
   "source": []
  },
  {
   "cell_type": "code",
   "execution_count": null,
   "metadata": {},
   "outputs": [],
   "source": [
    "\n"
   ]
  }
 ],
 "metadata": {
  "kernelspec": {
   "display_name": "Python 3",
   "language": "python",
   "name": "python3"
  },
  "language_info": {
   "codemirror_mode": {
    "name": "ipython",
    "version": 3
   },
   "file_extension": ".py",
   "mimetype": "text/x-python",
   "name": "python",
   "nbconvert_exporter": "python",
   "pygments_lexer": "ipython3",
   "version": "3.7.4"
  }
 },
 "nbformat": 4,
 "nbformat_minor": 2
}

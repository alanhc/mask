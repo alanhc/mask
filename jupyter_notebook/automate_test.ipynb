{
 "cells": [
  {
   "cell_type": "code",
   "execution_count": 3,
   "metadata": {},
   "outputs": [],
   "source": [
    "import requests\n",
    "import time\n",
    "from time import sleep\n",
    "import io\n",
    "import pandas as pd\n",
    "import os"
   ]
  },
  {
   "cell_type": "code",
   "execution_count": 4,
   "metadata": {},
   "outputs": [],
   "source": [
    "def get_data():\n",
    "    \n",
    "    url = 'https://quality.data.gov.tw/dq_download_csv.php?nid=116285&md5_url=2150b333756e64325bdbc4a5fd45fad1'\n",
    "    \n",
    "    tStart = time.time()\n",
    "    try:\n",
    "        r = requests.get(url)\n",
    "    except requests.exceptions.Timeout:\n",
    "        print('Timeout')\n",
    "    except requests.exceptions.RequestException as e:\n",
    "        print('some error happend! ctrl c to shut down',e)\n",
    "        get_data()\n",
    "        return\n",
    "    tEnd = time.time()\n",
    "    print(r.status_code,\"It cost %f sec\" % (tEnd - tStart))\n",
    "    \n",
    "    urlData = r.content\n",
    "    rawData = pd.read_csv(io.StringIO(urlData.decode('utf-8')))\n",
    "    return rawData\n",
    "    \n",
    "def handle_data():\n",
    "    old_data = \"\"\n",
    "    try:\n",
    "        old_data = pd.read_csv(r'old.csv')\n",
    "    except IOError:\n",
    "        print(\"File not exist, create new one\")\n",
    "        old_data = get_data()\n",
    "        old_data.to_csv(r'old.csv', index=False)\n",
    "        return\n",
    "    else:\n",
    "        new_data = get_data()\n",
    "        combin_data = pd.concat([new_data,old_data], ignore_index=True)\n",
    "        combin_data.to_csv(r'old.csv', index=False)\n",
    "        size = os.path.getsize('old.csv')\n",
    "        print('size:',size/(1024*1024),'Mb')\n",
    "        \n"
   ]
  },
  {
   "cell_type": "code",
   "execution_count": null,
   "metadata": {},
   "outputs": [],
   "source": [
    "import datetime\n",
    "now = datetime.datetime.now()\n",
    "\n",
    "while True:\n",
    "    if 0:\n",
    "        print('off line')\n",
    "    else:\n",
    "        handle_data()\n",
    "    sleep(5)"
   ]
  },
  {
   "cell_type": "code",
   "execution_count": 283,
   "metadata": {},
   "outputs": [
    {
     "name": "stdout",
     "output_type": "stream",
     "text": [
      "醫事機構代碼\n",
      "0145080011    5\n",
      "0291010010    5\n",
      "2101010013    5\n",
      "2101020019    5\n",
      "2101090011    5\n",
      "             ..\n",
      "5990010668    5\n",
      "5990010677    5\n",
      "5990020020    5\n",
      "5990030044    5\n",
      "5990030062    5\n",
      "Length: 6523, dtype: int64\n"
     ]
    },
    {
     "data": {
      "text/html": [
       "<div>\n",
       "<style scoped>\n",
       "    .dataframe tbody tr th:only-of-type {\n",
       "        vertical-align: middle;\n",
       "    }\n",
       "\n",
       "    .dataframe tbody tr th {\n",
       "        vertical-align: top;\n",
       "    }\n",
       "\n",
       "    .dataframe thead th {\n",
       "        text-align: right;\n",
       "    }\n",
       "</style>\n",
       "<table border=\"1\" class=\"dataframe\">\n",
       "  <thead>\n",
       "    <tr style=\"text-align: right;\">\n",
       "      <th></th>\n",
       "      <th>醫事機構代碼</th>\n",
       "      <th>醫事機構名稱</th>\n",
       "      <th>醫事機構地址</th>\n",
       "      <th>醫事機構電話</th>\n",
       "      <th>成人口罩剩餘數</th>\n",
       "      <th>兒童口罩剩餘數</th>\n",
       "      <th>來源資料時間</th>\n",
       "    </tr>\n",
       "  </thead>\n",
       "  <tbody>\n",
       "    <tr>\n",
       "      <th>0</th>\n",
       "      <td>0145080011</td>\n",
       "      <td>衛生福利部花蓮醫院豐濱原住民分院</td>\n",
       "      <td>花蓮縣豐濱鄉豐濱村光豐路４１號</td>\n",
       "      <td>(03)8358141</td>\n",
       "      <td>2040</td>\n",
       "      <td>1230</td>\n",
       "      <td>2020/02/24 11:33:37</td>\n",
       "    </tr>\n",
       "    <tr>\n",
       "      <th>6523</th>\n",
       "      <td>0145080011</td>\n",
       "      <td>衛生福利部花蓮醫院豐濱原住民分院</td>\n",
       "      <td>花蓮縣豐濱鄉豐濱村光豐路４１號</td>\n",
       "      <td>(03)8358141</td>\n",
       "      <td>2040</td>\n",
       "      <td>1230</td>\n",
       "      <td>2020/02/24 11:33:37</td>\n",
       "    </tr>\n",
       "    <tr>\n",
       "      <th>13046</th>\n",
       "      <td>0145080011</td>\n",
       "      <td>衛生福利部花蓮醫院豐濱原住民分院</td>\n",
       "      <td>花蓮縣豐濱鄉豐濱村光豐路４１號</td>\n",
       "      <td>(03)8358141</td>\n",
       "      <td>2040</td>\n",
       "      <td>1230</td>\n",
       "      <td>2020/02/24 11:33:37</td>\n",
       "    </tr>\n",
       "    <tr>\n",
       "      <th>19569</th>\n",
       "      <td>0145080011</td>\n",
       "      <td>衛生福利部花蓮醫院豐濱原住民分院</td>\n",
       "      <td>花蓮縣豐濱鄉豐濱村光豐路４１號</td>\n",
       "      <td>(03)8358141</td>\n",
       "      <td>2040</td>\n",
       "      <td>1230</td>\n",
       "      <td>2020/02/24 11:33:37</td>\n",
       "    </tr>\n",
       "    <tr>\n",
       "      <th>26092</th>\n",
       "      <td>0145080011</td>\n",
       "      <td>衛生福利部花蓮醫院豐濱原住民分院</td>\n",
       "      <td>花蓮縣豐濱鄉豐濱村光豐路４１號</td>\n",
       "      <td>(03)8358141</td>\n",
       "      <td>2040</td>\n",
       "      <td>1230</td>\n",
       "      <td>2020/02/24 11:33:37</td>\n",
       "    </tr>\n",
       "  </tbody>\n",
       "</table>\n",
       "</div>"
      ],
      "text/plain": [
       "           醫事機構代碼            醫事機構名稱           醫事機構地址       醫事機構電話  成人口罩剩餘數  \\\n",
       "0      0145080011  衛生福利部花蓮醫院豐濱原住民分院  花蓮縣豐濱鄉豐濱村光豐路４１號  (03)8358141     2040   \n",
       "6523   0145080011  衛生福利部花蓮醫院豐濱原住民分院  花蓮縣豐濱鄉豐濱村光豐路４１號  (03)8358141     2040   \n",
       "13046  0145080011  衛生福利部花蓮醫院豐濱原住民分院  花蓮縣豐濱鄉豐濱村光豐路４１號  (03)8358141     2040   \n",
       "19569  0145080011  衛生福利部花蓮醫院豐濱原住民分院  花蓮縣豐濱鄉豐濱村光豐路４１號  (03)8358141     2040   \n",
       "26092  0145080011  衛生福利部花蓮醫院豐濱原住民分院  花蓮縣豐濱鄉豐濱村光豐路４１號  (03)8358141     2040   \n",
       "\n",
       "       兒童口罩剩餘數               來源資料時間  \n",
       "0         1230  2020/02/24 11:33:37  \n",
       "6523      1230  2020/02/24 11:33:37  \n",
       "13046     1230  2020/02/24 11:33:37  \n",
       "19569     1230  2020/02/24 11:33:37  \n",
       "26092     1230  2020/02/24 11:33:37  "
      ]
     },
     "execution_count": 283,
     "metadata": {},
     "output_type": "execute_result"
    }
   ],
   "source": [
    "combined_csv = pd.read_csv('old.csv')\n",
    "df_group = combined_csv.groupby('醫事機構代碼')\n",
    "print(df_group.size())\n",
    "df_group.get_group('0145080011')"
   ]
  },
  {
   "cell_type": "code",
   "execution_count": 2,
   "metadata": {},
   "outputs": [
    {
     "data": {
      "text/plain": [
       "2"
      ]
     },
     "execution_count": 2,
     "metadata": {},
     "output_type": "execute_result"
    }
   ],
   "source": [
    "import datetime\n",
    "now = datetime.datetime.now()\n",
    "now.hour"
   ]
  }
 ],
 "metadata": {
  "kernelspec": {
   "display_name": "Python 3",
   "language": "python",
   "name": "python3"
  },
  "language_info": {
   "codemirror_mode": {
    "name": "ipython",
    "version": 3
   },
   "file_extension": ".py",
   "mimetype": "text/x-python",
   "name": "python",
   "nbconvert_exporter": "python",
   "pygments_lexer": "ipython3",
   "version": "3.7.4"
  }
 },
 "nbformat": 4,
 "nbformat_minor": 2
}

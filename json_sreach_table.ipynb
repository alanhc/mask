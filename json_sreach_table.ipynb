{
 "cells": [
  {
   "cell_type": "code",
   "execution_count": 1,
   "metadata": {},
   "outputs": [
    {
     "data": {
      "text/html": [
       "<div>\n",
       "<style scoped>\n",
       "    .dataframe tbody tr th:only-of-type {\n",
       "        vertical-align: middle;\n",
       "    }\n",
       "\n",
       "    .dataframe tbody tr th {\n",
       "        vertical-align: top;\n",
       "    }\n",
       "\n",
       "    .dataframe thead th {\n",
       "        text-align: right;\n",
       "    }\n",
       "</style>\n",
       "<table border=\"1\" class=\"dataframe\">\n",
       "  <thead>\n",
       "    <tr style=\"text-align: right;\">\n",
       "      <th></th>\n",
       "      <th>醫事機構名稱</th>\n",
       "      <th>醫事機構種類</th>\n",
       "      <th>電話</th>\n",
       "      <th>地 址</th>\n",
       "      <th>分區業務組</th>\n",
       "      <th>特約類別</th>\n",
       "      <th>服務項目</th>\n",
       "      <th>診療科別</th>\n",
       "      <th>終止合約或歇業日期</th>\n",
       "      <th>固定看診時段</th>\n",
       "      <th>備註</th>\n",
       "      <th>TGOS X</th>\n",
       "      <th>TGOS Y</th>\n",
       "      <th>縣市</th>\n",
       "      <th>鄉鎮市區</th>\n",
       "      <th>村里</th>\n",
       "      <th>看診星期</th>\n",
       "    </tr>\n",
       "    <tr>\n",
       "      <th>醫事機構代碼</th>\n",
       "      <th></th>\n",
       "      <th></th>\n",
       "      <th></th>\n",
       "      <th></th>\n",
       "      <th></th>\n",
       "      <th></th>\n",
       "      <th></th>\n",
       "      <th></th>\n",
       "      <th></th>\n",
       "      <th></th>\n",
       "      <th></th>\n",
       "      <th></th>\n",
       "      <th></th>\n",
       "      <th></th>\n",
       "      <th></th>\n",
       "      <th></th>\n",
       "      <th></th>\n",
       "    </tr>\n",
       "  </thead>\n",
       "  <tbody>\n",
       "    <tr>\n",
       "      <th>5901012409</th>\n",
       "      <td>家音藥局</td>\n",
       "      <td>藥師自營</td>\n",
       "      <td>02 -37652080</td>\n",
       "      <td>台北市松山區民生東路5段73號</td>\n",
       "      <td>臺北業務組</td>\n",
       "      <td>藥局</td>\n",
       "      <td>NaN</td>\n",
       "      <td>NaN</td>\n",
       "      <td>NaN</td>\n",
       "      <td>星期一上午看診、星期二上午看診、星期三上午看診、星期四上午看診、星期五上午看診、星期六上午看...</td>\n",
       "      <td>口罩販售時段 週一~五 16:00起、週六、日18:00起</td>\n",
       "      <td>121.558489</td>\n",
       "      <td>25.058709</td>\n",
       "      <td>臺北市</td>\n",
       "      <td>松山區</td>\n",
       "      <td>東榮里</td>\n",
       "      <td>NNNNNNNNNNNNNNNNNNNNN</td>\n",
       "    </tr>\n",
       "    <tr>\n",
       "      <th>5901012454</th>\n",
       "      <td>敦北藥局</td>\n",
       "      <td>藥師自營</td>\n",
       "      <td>02 -27155691</td>\n",
       "      <td>台北市松山區民生東路4段80巷5號</td>\n",
       "      <td>臺北業務組</td>\n",
       "      <td>藥局</td>\n",
       "      <td>NaN</td>\n",
       "      <td>NaN</td>\n",
       "      <td>NaN</td>\n",
       "      <td>星期一上午看診、星期二上午看診、星期三上午看診、星期四上午看診、星期五上午看診、星期六上午看...</td>\n",
       "      <td>-</td>\n",
       "      <td>121.553125</td>\n",
       "      <td>25.057129</td>\n",
       "      <td>臺北市</td>\n",
       "      <td>松山區</td>\n",
       "      <td>東昌里</td>\n",
       "      <td>NNNNNNNNNNNNNNNNNNNNN</td>\n",
       "    </tr>\n",
       "    <tr>\n",
       "      <th>5901012490</th>\n",
       "      <td>中美藥局</td>\n",
       "      <td>藥師自營</td>\n",
       "      <td>02 -27627468</td>\n",
       "      <td>台北市松山區富錦街531號</td>\n",
       "      <td>臺北業務組</td>\n",
       "      <td>藥局</td>\n",
       "      <td>NaN</td>\n",
       "      <td>NaN</td>\n",
       "      <td>NaN</td>\n",
       "      <td>星期一上午看診、星期二上午看診、星期三上午看診、星期四上午看診、星期五上午看診、星期六上午看...</td>\n",
       "      <td>營業時間如有異動，以藥局公告為準</td>\n",
       "      <td>121.565481</td>\n",
       "      <td>25.061285</td>\n",
       "      <td>臺北市</td>\n",
       "      <td>松山區</td>\n",
       "      <td>新益里</td>\n",
       "      <td>NNNNNNNNNNNNNNNNNNNNN</td>\n",
       "    </tr>\n",
       "    <tr>\n",
       "      <th>5901012507</th>\n",
       "      <td>康麗藥局</td>\n",
       "      <td>藥師自營</td>\n",
       "      <td>02 -27174117</td>\n",
       "      <td>台北市松山區南京東路3段303巷20號</td>\n",
       "      <td>臺北業務組</td>\n",
       "      <td>藥局</td>\n",
       "      <td>NaN</td>\n",
       "      <td>NaN</td>\n",
       "      <td>NaN</td>\n",
       "      <td>星期一上午看診、星期二上午看診、星期三上午看診、星期四上午看診、星期五上午看診、星期六上午看...</td>\n",
       "      <td>春節營業時間請電洽</td>\n",
       "      <td>121.546826</td>\n",
       "      <td>25.053690</td>\n",
       "      <td>臺北市</td>\n",
       "      <td>松山區</td>\n",
       "      <td>中正里</td>\n",
       "      <td>NNNNNNYNNNNNNYNNNNNNY</td>\n",
       "    </tr>\n",
       "    <tr>\n",
       "      <th>5901012516</th>\n",
       "      <td>惠登藥局</td>\n",
       "      <td>藥師自營</td>\n",
       "      <td>02 -25472432</td>\n",
       "      <td>台北市松山區民生東路3段130巷34號</td>\n",
       "      <td>臺北業務組</td>\n",
       "      <td>藥局</td>\n",
       "      <td>NaN</td>\n",
       "      <td>NaN</td>\n",
       "      <td>NaN</td>\n",
       "      <td>星期一上午看診、星期二上午看診、星期三上午看診、星期四上午看診、星期五上午看診、星期六上午看...</td>\n",
       "      <td>-</td>\n",
       "      <td>121.546113</td>\n",
       "      <td>25.056198</td>\n",
       "      <td>臺北市</td>\n",
       "      <td>松山區</td>\n",
       "      <td>松基里</td>\n",
       "      <td>NNNNNNNNNNNNNNNNNNNNN</td>\n",
       "    </tr>\n",
       "  </tbody>\n",
       "</table>\n",
       "</div>"
      ],
      "text/plain": [
       "           醫事機構名稱 醫事機構種類             電話                 地 址   分區業務組 特約類別  \\\n",
       "醫事機構代碼                                                                     \n",
       "5901012409   家音藥局    藥師自營  02 -37652080      台北市松山區民生東路5段73號  臺北業務組   藥局   \n",
       "5901012454   敦北藥局    藥師自營  02 -27155691    台北市松山區民生東路4段80巷5號  臺北業務組   藥局   \n",
       "5901012490   中美藥局    藥師自營  02 -27627468        台北市松山區富錦街531號  臺北業務組   藥局   \n",
       "5901012507   康麗藥局    藥師自營  02 -27174117  台北市松山區南京東路3段303巷20號  臺北業務組   藥局   \n",
       "5901012516   惠登藥局    藥師自營  02 -25472432  台北市松山區民生東路3段130巷34號  臺北業務組   藥局   \n",
       "\n",
       "           服務項目  診療科別  終止合約或歇業日期   \\\n",
       "醫事機構代碼                              \n",
       "5901012409   NaN   NaN        NaN   \n",
       "5901012454   NaN   NaN        NaN   \n",
       "5901012490   NaN   NaN        NaN   \n",
       "5901012507   NaN   NaN        NaN   \n",
       "5901012516   NaN   NaN        NaN   \n",
       "\n",
       "                                                      固定看診時段   \\\n",
       "醫事機構代碼                                                          \n",
       "5901012409  星期一上午看診、星期二上午看診、星期三上午看診、星期四上午看診、星期五上午看診、星期六上午看...   \n",
       "5901012454  星期一上午看診、星期二上午看診、星期三上午看診、星期四上午看診、星期五上午看診、星期六上午看...   \n",
       "5901012490  星期一上午看診、星期二上午看診、星期三上午看診、星期四上午看診、星期五上午看診、星期六上午看...   \n",
       "5901012507  星期一上午看診、星期二上午看診、星期三上午看診、星期四上午看診、星期五上午看診、星期六上午看...   \n",
       "5901012516  星期一上午看診、星期二上午看診、星期三上午看診、星期四上午看診、星期五上午看診、星期六上午看...   \n",
       "\n",
       "                                       備註      TGOS X     TGOS Y   縣市 鄉鎮市區  \\\n",
       "醫事機構代碼                                                                       \n",
       "5901012409  口罩販售時段 週一~五 16:00起、週六、日18:00起  121.558489  25.058709  臺北市  松山區   \n",
       "5901012454                              -  121.553125  25.057129  臺北市  松山區   \n",
       "5901012490               營業時間如有異動，以藥局公告為準  121.565481  25.061285  臺北市  松山區   \n",
       "5901012507                      春節營業時間請電洽  121.546826  25.053690  臺北市  松山區   \n",
       "5901012516                              -  121.546113  25.056198  臺北市  松山區   \n",
       "\n",
       "             村里                   看診星期  \n",
       "醫事機構代碼                                  \n",
       "5901012409  東榮里  NNNNNNNNNNNNNNNNNNNNN  \n",
       "5901012454  東昌里  NNNNNNNNNNNNNNNNNNNNN  \n",
       "5901012490  新益里  NNNNNNNNNNNNNNNNNNNNN  \n",
       "5901012507  中正里  NNNNNNYNNNNNNYNNNNNNY  \n",
       "5901012516  松基里  NNNNNNNNNNNNNNNNNNNNN  "
      ]
     },
     "execution_count": 1,
     "metadata": {},
     "output_type": "execute_result"
    }
   ],
   "source": [
    "import pandas as pd\n",
    "rawData = pd.read_csv('data.csv', index_col=['醫事機構代碼'])\n",
    "rawData.head()"
   ]
  },
  {
   "cell_type": "code",
   "execution_count": 2,
   "metadata": {},
   "outputs": [
    {
     "data": {
      "text/html": [
       "<div>\n",
       "<style scoped>\n",
       "    .dataframe tbody tr th:only-of-type {\n",
       "        vertical-align: middle;\n",
       "    }\n",
       "\n",
       "    .dataframe tbody tr th {\n",
       "        vertical-align: top;\n",
       "    }\n",
       "\n",
       "    .dataframe thead th {\n",
       "        text-align: right;\n",
       "    }\n",
       "</style>\n",
       "<table border=\"1\" class=\"dataframe\">\n",
       "  <thead>\n",
       "    <tr style=\"text-align: right;\">\n",
       "      <th></th>\n",
       "      <th>醫事機構名稱</th>\n",
       "      <th>醫事機構地址</th>\n",
       "      <th>醫事機構電話</th>\n",
       "      <th>成人口罩剩餘數</th>\n",
       "      <th>兒童口罩剩餘數</th>\n",
       "      <th>來源資料時間</th>\n",
       "    </tr>\n",
       "    <tr>\n",
       "      <th>醫事機構代碼</th>\n",
       "      <th></th>\n",
       "      <th></th>\n",
       "      <th></th>\n",
       "      <th></th>\n",
       "      <th></th>\n",
       "      <th></th>\n",
       "    </tr>\n",
       "  </thead>\n",
       "  <tbody>\n",
       "    <tr>\n",
       "      <th>0145080011</th>\n",
       "      <td>衛生福利部花蓮醫院豐濱原住民分院</td>\n",
       "      <td>花蓮縣豐濱鄉豐濱村光豐路４１號</td>\n",
       "      <td>(03)8358141</td>\n",
       "      <td>3479</td>\n",
       "      <td>2136</td>\n",
       "      <td>2020/03/08 23:29:12</td>\n",
       "    </tr>\n",
       "    <tr>\n",
       "      <th>0291010010</th>\n",
       "      <td>連江縣立醫院</td>\n",
       "      <td>連江縣南竿鄉復興村２１７號</td>\n",
       "      <td>(083)623995</td>\n",
       "      <td>168</td>\n",
       "      <td>499</td>\n",
       "      <td>2020/03/08 23:29:12</td>\n",
       "    </tr>\n",
       "    <tr>\n",
       "      <th>2101010013</th>\n",
       "      <td>松山健康服務中心</td>\n",
       "      <td>臺北市松山區八德路４段６９４號１、２樓</td>\n",
       "      <td>(02)27653147</td>\n",
       "      <td>1</td>\n",
       "      <td>2219</td>\n",
       "      <td>2020/03/08 23:29:12</td>\n",
       "    </tr>\n",
       "    <tr>\n",
       "      <th>2101020019</th>\n",
       "      <td>大安健康服務中心</td>\n",
       "      <td>臺北市大安區辛亥路３段１５號</td>\n",
       "      <td>(02)27390997</td>\n",
       "      <td>1</td>\n",
       "      <td>1633</td>\n",
       "      <td>2020/03/08 23:29:12</td>\n",
       "    </tr>\n",
       "    <tr>\n",
       "      <th>2101090011</th>\n",
       "      <td>大同健康服務中心</td>\n",
       "      <td>臺北市大同區昌吉街５２號１至２樓</td>\n",
       "      <td>(02)25948971</td>\n",
       "      <td>0</td>\n",
       "      <td>1230</td>\n",
       "      <td>2020/03/08 23:29:12</td>\n",
       "    </tr>\n",
       "  </tbody>\n",
       "</table>\n",
       "</div>"
      ],
      "text/plain": [
       "                      醫事機構名稱               醫事機構地址        醫事機構電話  成人口罩剩餘數  \\\n",
       "醫事機構代碼                                                                     \n",
       "0145080011  衛生福利部花蓮醫院豐濱原住民分院      花蓮縣豐濱鄉豐濱村光豐路４１號   (03)8358141     3479   \n",
       "0291010010            連江縣立醫院        連江縣南竿鄉復興村２１７號   (083)623995      168   \n",
       "2101010013          松山健康服務中心  臺北市松山區八德路４段６９４號１、２樓  (02)27653147        1   \n",
       "2101020019          大安健康服務中心       臺北市大安區辛亥路３段１５號  (02)27390997        1   \n",
       "2101090011          大同健康服務中心     臺北市大同區昌吉街５２號１至２樓  (02)25948971        0   \n",
       "\n",
       "            兒童口罩剩餘數               來源資料時間  \n",
       "醫事機構代碼                                    \n",
       "0145080011     2136  2020/03/08 23:29:12  \n",
       "0291010010      499  2020/03/08 23:29:12  \n",
       "2101010013     2219  2020/03/08 23:29:12  \n",
       "2101020019     1633  2020/03/08 23:29:12  \n",
       "2101090011     1230  2020/03/08 23:29:12  "
      ]
     },
     "execution_count": 2,
     "metadata": {},
     "output_type": "execute_result"
    }
   ],
   "source": [
    "maskData = pd.read_csv('maskdata.csv', index_col=['醫事機構代碼'])\n",
    "maskData.head()"
   ]
  },
  {
   "cell_type": "code",
   "execution_count": 3,
   "metadata": {},
   "outputs": [
    {
     "data": {
      "text/html": [
       "<div>\n",
       "<style scoped>\n",
       "    .dataframe tbody tr th:only-of-type {\n",
       "        vertical-align: middle;\n",
       "    }\n",
       "\n",
       "    .dataframe tbody tr th {\n",
       "        vertical-align: top;\n",
       "    }\n",
       "\n",
       "    .dataframe thead th {\n",
       "        text-align: right;\n",
       "    }\n",
       "</style>\n",
       "<table border=\"1\" class=\"dataframe\">\n",
       "  <thead>\n",
       "    <tr style=\"text-align: right;\">\n",
       "      <th></th>\n",
       "      <th>成人口罩剩餘數</th>\n",
       "      <th>兒童口罩剩餘數</th>\n",
       "    </tr>\n",
       "    <tr>\n",
       "      <th>醫事機構代碼</th>\n",
       "      <th></th>\n",
       "      <th></th>\n",
       "    </tr>\n",
       "  </thead>\n",
       "  <tbody>\n",
       "    <tr>\n",
       "      <th>0145080011</th>\n",
       "      <td>3479</td>\n",
       "      <td>2136</td>\n",
       "    </tr>\n",
       "    <tr>\n",
       "      <th>0291010010</th>\n",
       "      <td>168</td>\n",
       "      <td>499</td>\n",
       "    </tr>\n",
       "    <tr>\n",
       "      <th>2101010013</th>\n",
       "      <td>1</td>\n",
       "      <td>2219</td>\n",
       "    </tr>\n",
       "    <tr>\n",
       "      <th>2101020019</th>\n",
       "      <td>1</td>\n",
       "      <td>1633</td>\n",
       "    </tr>\n",
       "    <tr>\n",
       "      <th>2101090011</th>\n",
       "      <td>0</td>\n",
       "      <td>1230</td>\n",
       "    </tr>\n",
       "  </tbody>\n",
       "</table>\n",
       "</div>"
      ],
      "text/plain": [
       "            成人口罩剩餘數  兒童口罩剩餘數\n",
       "醫事機構代碼                      \n",
       "0145080011     3479     2136\n",
       "0291010010      168      499\n",
       "2101010013        1     2219\n",
       "2101020019        1     1633\n",
       "2101090011        0     1230"
      ]
     },
     "execution_count": 3,
     "metadata": {},
     "output_type": "execute_result"
    }
   ],
   "source": [
    "maskData = maskData[['成人口罩剩餘數','兒童口罩剩餘數']]\n",
    "maskData.head()"
   ]
  },
  {
   "cell_type": "code",
   "execution_count": 4,
   "metadata": {},
   "outputs": [
    {
     "data": {
      "text/html": [
       "<div>\n",
       "<style scoped>\n",
       "    .dataframe tbody tr th:only-of-type {\n",
       "        vertical-align: middle;\n",
       "    }\n",
       "\n",
       "    .dataframe tbody tr th {\n",
       "        vertical-align: top;\n",
       "    }\n",
       "\n",
       "    .dataframe thead th {\n",
       "        text-align: right;\n",
       "    }\n",
       "</style>\n",
       "<table border=\"1\" class=\"dataframe\">\n",
       "  <thead>\n",
       "    <tr style=\"text-align: right;\">\n",
       "      <th></th>\n",
       "      <th>醫事機構名稱</th>\n",
       "      <th>TGOS X</th>\n",
       "      <th>TGOS Y</th>\n",
       "    </tr>\n",
       "    <tr>\n",
       "      <th>醫事機構代碼</th>\n",
       "      <th></th>\n",
       "      <th></th>\n",
       "      <th></th>\n",
       "    </tr>\n",
       "  </thead>\n",
       "  <tbody>\n",
       "    <tr>\n",
       "      <th>5901012409</th>\n",
       "      <td>家音藥局</td>\n",
       "      <td>121.558489</td>\n",
       "      <td>25.058709</td>\n",
       "    </tr>\n",
       "    <tr>\n",
       "      <th>5901012454</th>\n",
       "      <td>敦北藥局</td>\n",
       "      <td>121.553125</td>\n",
       "      <td>25.057129</td>\n",
       "    </tr>\n",
       "    <tr>\n",
       "      <th>5901012490</th>\n",
       "      <td>中美藥局</td>\n",
       "      <td>121.565481</td>\n",
       "      <td>25.061285</td>\n",
       "    </tr>\n",
       "    <tr>\n",
       "      <th>5901012507</th>\n",
       "      <td>康麗藥局</td>\n",
       "      <td>121.546826</td>\n",
       "      <td>25.053690</td>\n",
       "    </tr>\n",
       "    <tr>\n",
       "      <th>5901012516</th>\n",
       "      <td>惠登藥局</td>\n",
       "      <td>121.546113</td>\n",
       "      <td>25.056198</td>\n",
       "    </tr>\n",
       "  </tbody>\n",
       "</table>\n",
       "</div>"
      ],
      "text/plain": [
       "           醫事機構名稱      TGOS X     TGOS Y\n",
       "醫事機構代碼                                  \n",
       "5901012409   家音藥局  121.558489  25.058709\n",
       "5901012454   敦北藥局  121.553125  25.057129\n",
       "5901012490   中美藥局  121.565481  25.061285\n",
       "5901012507   康麗藥局  121.546826  25.053690\n",
       "5901012516   惠登藥局  121.546113  25.056198"
      ]
     },
     "execution_count": 4,
     "metadata": {},
     "output_type": "execute_result"
    }
   ],
   "source": [
    "dataPos = rawData[['醫事機構名稱','TGOS X', 'TGOS Y']]\n",
    "dataPos.head()"
   ]
  },
  {
   "cell_type": "code",
   "execution_count": 5,
   "metadata": {},
   "outputs": [
    {
     "name": "stdout",
     "output_type": "stream",
     "text": [
      "(8521, 3)\n",
      "(6143, 2)\n",
      "dataPos: (6140, 5)\n"
     ]
    }
   ],
   "source": [
    "print(dataPos.shape)\n",
    "print(maskData.shape)\n",
    "result = pd.concat([dataPos, maskData], axis=1, join='inner')\n",
    "result.dropna(axis=0)\n",
    "print('dataPos:',result.shape)"
   ]
  },
  {
   "cell_type": "code",
   "execution_count": 6,
   "metadata": {},
   "outputs": [],
   "source": [
    "result.to_csv('result.csv')"
   ]
  },
  {
   "cell_type": "code",
   "execution_count": 150,
   "metadata": {},
   "outputs": [],
   "source": [
    "#csv to json\n",
    "a = result.to_json(orient='index')\n",
    "import json\n",
    "loaded_json = json.loads(a)\n",
    "loaded_json\n",
    "#save json to file\n",
    "import json\n",
    "with open('search.json', 'w') as json_file:\n",
    "    json.dump(loaded_json, json_file)"
   ]
  },
  {
   "cell_type": "code",
   "execution_count": 67,
   "metadata": {},
   "outputs": [],
   "source": []
  },
  {
   "cell_type": "code",
   "execution_count": 53,
   "metadata": {},
   "outputs": [
    {
     "data": {
      "text/plain": [
       "{'醫事機構名稱': '松山健康服務中心', 'TGOS X': 121.577306, 'TGOS Y': 25.049669}"
      ]
     },
     "execution_count": 53,
     "metadata": {},
     "output_type": "execute_result"
    }
   ],
   "source": [
    "loaded_json['2101010013']"
   ]
  },
  {
   "cell_type": "code",
   "execution_count": 45,
   "metadata": {},
   "outputs": [],
   "source": [
    "data.to_csv('data.csv',index=False, header=True)"
   ]
  },
  {
   "cell_type": "code",
   "execution_count": 2,
   "metadata": {},
   "outputs": [
    {
     "data": {
      "text/html": [
       "<div>\n",
       "<style scoped>\n",
       "    .dataframe tbody tr th:only-of-type {\n",
       "        vertical-align: middle;\n",
       "    }\n",
       "\n",
       "    .dataframe tbody tr th {\n",
       "        vertical-align: top;\n",
       "    }\n",
       "\n",
       "    .dataframe thead th {\n",
       "        text-align: right;\n",
       "    }\n",
       "</style>\n",
       "<table border=\"1\" class=\"dataframe\">\n",
       "  <thead>\n",
       "    <tr style=\"text-align: right;\">\n",
       "      <th></th>\n",
       "      <th>醫事機構名稱</th>\n",
       "      <th>醫事機構地址</th>\n",
       "      <th>醫事機構電話</th>\n",
       "      <th>成人口罩剩餘數</th>\n",
       "      <th>兒童口罩剩餘數</th>\n",
       "      <th>來源資料時間</th>\n",
       "    </tr>\n",
       "    <tr>\n",
       "      <th>醫事機構代碼</th>\n",
       "      <th></th>\n",
       "      <th></th>\n",
       "      <th></th>\n",
       "      <th></th>\n",
       "      <th></th>\n",
       "      <th></th>\n",
       "    </tr>\n",
       "  </thead>\n",
       "  <tbody>\n",
       "    <tr>\n",
       "      <th>0145080011</th>\n",
       "      <td>衛生福利部花蓮醫院豐濱原住民分院</td>\n",
       "      <td>花蓮縣豐濱鄉豐濱村光豐路４１號</td>\n",
       "      <td>(03)8358141</td>\n",
       "      <td>3626</td>\n",
       "      <td>2151</td>\n",
       "      <td>2020/03/08 12:24:45</td>\n",
       "    </tr>\n",
       "    <tr>\n",
       "      <th>0291010010</th>\n",
       "      <td>連江縣立醫院</td>\n",
       "      <td>連江縣南竿鄉復興村２１７號</td>\n",
       "      <td>(083)623995</td>\n",
       "      <td>168</td>\n",
       "      <td>499</td>\n",
       "      <td>2020/03/08 12:24:45</td>\n",
       "    </tr>\n",
       "    <tr>\n",
       "      <th>2101010013</th>\n",
       "      <td>松山健康服務中心</td>\n",
       "      <td>臺北市松山區八德路４段６９４號１、２樓</td>\n",
       "      <td>(02)27653147</td>\n",
       "      <td>1</td>\n",
       "      <td>2219</td>\n",
       "      <td>2020/03/08 12:24:45</td>\n",
       "    </tr>\n",
       "    <tr>\n",
       "      <th>2101020019</th>\n",
       "      <td>大安健康服務中心</td>\n",
       "      <td>臺北市大安區辛亥路３段１５號</td>\n",
       "      <td>(02)27390997</td>\n",
       "      <td>1</td>\n",
       "      <td>1633</td>\n",
       "      <td>2020/03/08 12:24:45</td>\n",
       "    </tr>\n",
       "    <tr>\n",
       "      <th>2101090011</th>\n",
       "      <td>大同健康服務中心</td>\n",
       "      <td>臺北市大同區昌吉街５２號１至２樓</td>\n",
       "      <td>(02)25948971</td>\n",
       "      <td>0</td>\n",
       "      <td>1230</td>\n",
       "      <td>2020/03/08 12:24:45</td>\n",
       "    </tr>\n",
       "    <tr>\n",
       "      <th>...</th>\n",
       "      <td>...</td>\n",
       "      <td>...</td>\n",
       "      <td>...</td>\n",
       "      <td>...</td>\n",
       "      <td>...</td>\n",
       "      <td>...</td>\n",
       "    </tr>\n",
       "    <tr>\n",
       "      <th>5990010631</th>\n",
       "      <td>大森藥局</td>\n",
       "      <td>金門縣金城鎮民生路２８、３０號１、２樓</td>\n",
       "      <td>(82)325100</td>\n",
       "      <td>0</td>\n",
       "      <td>57</td>\n",
       "      <td>2020/03/08 12:24:45</td>\n",
       "    </tr>\n",
       "    <tr>\n",
       "      <th>5990010668</th>\n",
       "      <td>百泰藥局</td>\n",
       "      <td>金門縣金城鎮西海路１段１號</td>\n",
       "      <td>(082)312832</td>\n",
       "      <td>619</td>\n",
       "      <td>768</td>\n",
       "      <td>2020/03/08 12:24:45</td>\n",
       "    </tr>\n",
       "    <tr>\n",
       "      <th>5990010677</th>\n",
       "      <td>沛禾藥局</td>\n",
       "      <td>金門縣金城鎮民權路１４０號</td>\n",
       "      <td>(082)323520</td>\n",
       "      <td>0</td>\n",
       "      <td>60</td>\n",
       "      <td>2020/03/08 12:24:45</td>\n",
       "    </tr>\n",
       "    <tr>\n",
       "      <th>5990030044</th>\n",
       "      <td>仁愛復興藥局</td>\n",
       "      <td>金門縣金湖鎮新市里復興路４０號</td>\n",
       "      <td>(082)332368</td>\n",
       "      <td>6</td>\n",
       "      <td>0</td>\n",
       "      <td>2020/03/08 12:24:45</td>\n",
       "    </tr>\n",
       "    <tr>\n",
       "      <th>5990030062</th>\n",
       "      <td>大山藥局</td>\n",
       "      <td>金門縣金湖鎮新市里中正路２號、２－２號</td>\n",
       "      <td>(082)333290</td>\n",
       "      <td>1</td>\n",
       "      <td>0</td>\n",
       "      <td>2020/03/08 12:24:45</td>\n",
       "    </tr>\n",
       "  </tbody>\n",
       "</table>\n",
       "<p>6355 rows × 6 columns</p>\n",
       "</div>"
      ],
      "text/plain": [
       "                      醫事機構名稱               醫事機構地址        醫事機構電話  成人口罩剩餘數  \\\n",
       "醫事機構代碼                                                                     \n",
       "0145080011  衛生福利部花蓮醫院豐濱原住民分院      花蓮縣豐濱鄉豐濱村光豐路４１號   (03)8358141     3626   \n",
       "0291010010            連江縣立醫院        連江縣南竿鄉復興村２１７號   (083)623995      168   \n",
       "2101010013          松山健康服務中心  臺北市松山區八德路４段６９４號１、２樓  (02)27653147        1   \n",
       "2101020019          大安健康服務中心       臺北市大安區辛亥路３段１５號  (02)27390997        1   \n",
       "2101090011          大同健康服務中心     臺北市大同區昌吉街５２號１至２樓  (02)25948971        0   \n",
       "...                      ...                  ...           ...      ...   \n",
       "5990010631              大森藥局  金門縣金城鎮民生路２８、３０號１、２樓    (82)325100        0   \n",
       "5990010668              百泰藥局        金門縣金城鎮西海路１段１號   (082)312832      619   \n",
       "5990010677              沛禾藥局        金門縣金城鎮民權路１４０號   (082)323520        0   \n",
       "5990030044            仁愛復興藥局      金門縣金湖鎮新市里復興路４０號   (082)332368        6   \n",
       "5990030062              大山藥局  金門縣金湖鎮新市里中正路２號、２－２號   (082)333290        1   \n",
       "\n",
       "            兒童口罩剩餘數               來源資料時間  \n",
       "醫事機構代碼                                    \n",
       "0145080011     2151  2020/03/08 12:24:45  \n",
       "0291010010      499  2020/03/08 12:24:45  \n",
       "2101010013     2219  2020/03/08 12:24:45  \n",
       "2101020019     1633  2020/03/08 12:24:45  \n",
       "2101090011     1230  2020/03/08 12:24:45  \n",
       "...             ...                  ...  \n",
       "5990010631       57  2020/03/08 12:24:45  \n",
       "5990010668      768  2020/03/08 12:24:45  \n",
       "5990010677       60  2020/03/08 12:24:45  \n",
       "5990030044        0  2020/03/08 12:24:45  \n",
       "5990030062        0  2020/03/08 12:24:45  \n",
       "\n",
       "[6355 rows x 6 columns]"
      ]
     },
     "execution_count": 2,
     "metadata": {},
     "output_type": "execute_result"
    }
   ],
   "source": [
    "import pandas as pd\n",
    "data = pd.read_csv('./maskdata.csv', index_col=['醫事機構代碼'])\n",
    "data"
   ]
  },
  {
   "cell_type": "code",
   "execution_count": 32,
   "metadata": {},
   "outputs": [
    {
     "ename": "KeyError",
     "evalue": "'醫事機構地址'",
     "output_type": "error",
     "traceback": [
      "\u001b[0;31m---------------------------------------------------------------------------\u001b[0m",
      "\u001b[0;31mKeyError\u001b[0m                                  Traceback (most recent call last)",
      "\u001b[0;32m/Users/alantseng/miniconda3/lib/python3.7/site-packages/pandas/core/indexes/base.py\u001b[0m in \u001b[0;36mget_loc\u001b[0;34m(self, key, method, tolerance)\u001b[0m\n\u001b[1;32m   2896\u001b[0m             \u001b[0;32mtry\u001b[0m\u001b[0;34m:\u001b[0m\u001b[0;34m\u001b[0m\u001b[0;34m\u001b[0m\u001b[0m\n\u001b[0;32m-> 2897\u001b[0;31m                 \u001b[0;32mreturn\u001b[0m \u001b[0mself\u001b[0m\u001b[0;34m.\u001b[0m\u001b[0m_engine\u001b[0m\u001b[0;34m.\u001b[0m\u001b[0mget_loc\u001b[0m\u001b[0;34m(\u001b[0m\u001b[0mkey\u001b[0m\u001b[0;34m)\u001b[0m\u001b[0;34m\u001b[0m\u001b[0;34m\u001b[0m\u001b[0m\n\u001b[0m\u001b[1;32m   2898\u001b[0m             \u001b[0;32mexcept\u001b[0m \u001b[0mKeyError\u001b[0m\u001b[0;34m:\u001b[0m\u001b[0;34m\u001b[0m\u001b[0;34m\u001b[0m\u001b[0m\n",
      "\u001b[0;32mpandas/_libs/index.pyx\u001b[0m in \u001b[0;36mpandas._libs.index.IndexEngine.get_loc\u001b[0;34m()\u001b[0m\n",
      "\u001b[0;32mpandas/_libs/index.pyx\u001b[0m in \u001b[0;36mpandas._libs.index.IndexEngine.get_loc\u001b[0;34m()\u001b[0m\n",
      "\u001b[0;32mpandas/_libs/hashtable_class_helper.pxi\u001b[0m in \u001b[0;36mpandas._libs.hashtable.PyObjectHashTable.get_item\u001b[0;34m()\u001b[0m\n",
      "\u001b[0;32mpandas/_libs/hashtable_class_helper.pxi\u001b[0m in \u001b[0;36mpandas._libs.hashtable.PyObjectHashTable.get_item\u001b[0;34m()\u001b[0m\n",
      "\u001b[0;31mKeyError\u001b[0m: '醫事機構地址'",
      "\nDuring handling of the above exception, another exception occurred:\n",
      "\u001b[0;31mKeyError\u001b[0m                                  Traceback (most recent call last)",
      "\u001b[0;32m<ipython-input-32-dec5b0bcdbdc>\u001b[0m in \u001b[0;36m<module>\u001b[0;34m()\u001b[0m\n\u001b[0;32m----> 1\u001b[0;31m \u001b[0msave\u001b[0m \u001b[0;34m=\u001b[0m \u001b[0mdata\u001b[0m\u001b[0;34m[\u001b[0m\u001b[0;34m'醫事機構地址'\u001b[0m\u001b[0;34m]\u001b[0m\u001b[0;34m\u001b[0m\u001b[0;34m\u001b[0m\u001b[0m\n\u001b[0m\u001b[1;32m      2\u001b[0m \u001b[0msave\u001b[0m\u001b[0;34m.\u001b[0m\u001b[0mto_csv\u001b[0m\u001b[0;34m(\u001b[0m\u001b[0;34m'data.csv'\u001b[0m\u001b[0;34m,\u001b[0m\u001b[0mindex\u001b[0m\u001b[0;34m=\u001b[0m\u001b[0;32mFalse\u001b[0m\u001b[0;34m,\u001b[0m \u001b[0mheader\u001b[0m\u001b[0;34m=\u001b[0m\u001b[0;32mTrue\u001b[0m\u001b[0;34m)\u001b[0m\u001b[0;34m\u001b[0m\u001b[0;34m\u001b[0m\u001b[0m\n",
      "\u001b[0;32m/Users/alantseng/miniconda3/lib/python3.7/site-packages/pandas/core/frame.py\u001b[0m in \u001b[0;36m__getitem__\u001b[0;34m(self, key)\u001b[0m\n\u001b[1;32m   2993\u001b[0m             \u001b[0;32mif\u001b[0m \u001b[0mself\u001b[0m\u001b[0;34m.\u001b[0m\u001b[0mcolumns\u001b[0m\u001b[0;34m.\u001b[0m\u001b[0mnlevels\u001b[0m \u001b[0;34m>\u001b[0m \u001b[0;36m1\u001b[0m\u001b[0;34m:\u001b[0m\u001b[0;34m\u001b[0m\u001b[0;34m\u001b[0m\u001b[0m\n\u001b[1;32m   2994\u001b[0m                 \u001b[0;32mreturn\u001b[0m \u001b[0mself\u001b[0m\u001b[0;34m.\u001b[0m\u001b[0m_getitem_multilevel\u001b[0m\u001b[0;34m(\u001b[0m\u001b[0mkey\u001b[0m\u001b[0;34m)\u001b[0m\u001b[0;34m\u001b[0m\u001b[0;34m\u001b[0m\u001b[0m\n\u001b[0;32m-> 2995\u001b[0;31m             \u001b[0mindexer\u001b[0m \u001b[0;34m=\u001b[0m \u001b[0mself\u001b[0m\u001b[0;34m.\u001b[0m\u001b[0mcolumns\u001b[0m\u001b[0;34m.\u001b[0m\u001b[0mget_loc\u001b[0m\u001b[0;34m(\u001b[0m\u001b[0mkey\u001b[0m\u001b[0;34m)\u001b[0m\u001b[0;34m\u001b[0m\u001b[0;34m\u001b[0m\u001b[0m\n\u001b[0m\u001b[1;32m   2996\u001b[0m             \u001b[0;32mif\u001b[0m \u001b[0mis_integer\u001b[0m\u001b[0;34m(\u001b[0m\u001b[0mindexer\u001b[0m\u001b[0;34m)\u001b[0m\u001b[0;34m:\u001b[0m\u001b[0;34m\u001b[0m\u001b[0;34m\u001b[0m\u001b[0m\n\u001b[1;32m   2997\u001b[0m                 \u001b[0mindexer\u001b[0m \u001b[0;34m=\u001b[0m \u001b[0;34m[\u001b[0m\u001b[0mindexer\u001b[0m\u001b[0;34m]\u001b[0m\u001b[0;34m\u001b[0m\u001b[0;34m\u001b[0m\u001b[0m\n",
      "\u001b[0;32m/Users/alantseng/miniconda3/lib/python3.7/site-packages/pandas/core/indexes/base.py\u001b[0m in \u001b[0;36mget_loc\u001b[0;34m(self, key, method, tolerance)\u001b[0m\n\u001b[1;32m   2897\u001b[0m                 \u001b[0;32mreturn\u001b[0m \u001b[0mself\u001b[0m\u001b[0;34m.\u001b[0m\u001b[0m_engine\u001b[0m\u001b[0;34m.\u001b[0m\u001b[0mget_loc\u001b[0m\u001b[0;34m(\u001b[0m\u001b[0mkey\u001b[0m\u001b[0;34m)\u001b[0m\u001b[0;34m\u001b[0m\u001b[0;34m\u001b[0m\u001b[0m\n\u001b[1;32m   2898\u001b[0m             \u001b[0;32mexcept\u001b[0m \u001b[0mKeyError\u001b[0m\u001b[0;34m:\u001b[0m\u001b[0;34m\u001b[0m\u001b[0;34m\u001b[0m\u001b[0m\n\u001b[0;32m-> 2899\u001b[0;31m                 \u001b[0;32mreturn\u001b[0m \u001b[0mself\u001b[0m\u001b[0;34m.\u001b[0m\u001b[0m_engine\u001b[0m\u001b[0;34m.\u001b[0m\u001b[0mget_loc\u001b[0m\u001b[0;34m(\u001b[0m\u001b[0mself\u001b[0m\u001b[0;34m.\u001b[0m\u001b[0m_maybe_cast_indexer\u001b[0m\u001b[0;34m(\u001b[0m\u001b[0mkey\u001b[0m\u001b[0;34m)\u001b[0m\u001b[0;34m)\u001b[0m\u001b[0;34m\u001b[0m\u001b[0;34m\u001b[0m\u001b[0m\n\u001b[0m\u001b[1;32m   2900\u001b[0m         \u001b[0mindexer\u001b[0m \u001b[0;34m=\u001b[0m \u001b[0mself\u001b[0m\u001b[0;34m.\u001b[0m\u001b[0mget_indexer\u001b[0m\u001b[0;34m(\u001b[0m\u001b[0;34m[\u001b[0m\u001b[0mkey\u001b[0m\u001b[0;34m]\u001b[0m\u001b[0;34m,\u001b[0m \u001b[0mmethod\u001b[0m\u001b[0;34m=\u001b[0m\u001b[0mmethod\u001b[0m\u001b[0;34m,\u001b[0m \u001b[0mtolerance\u001b[0m\u001b[0;34m=\u001b[0m\u001b[0mtolerance\u001b[0m\u001b[0;34m)\u001b[0m\u001b[0;34m\u001b[0m\u001b[0;34m\u001b[0m\u001b[0m\n\u001b[1;32m   2901\u001b[0m         \u001b[0;32mif\u001b[0m \u001b[0mindexer\u001b[0m\u001b[0;34m.\u001b[0m\u001b[0mndim\u001b[0m \u001b[0;34m>\u001b[0m \u001b[0;36m1\u001b[0m \u001b[0;32mor\u001b[0m \u001b[0mindexer\u001b[0m\u001b[0;34m.\u001b[0m\u001b[0msize\u001b[0m \u001b[0;34m>\u001b[0m \u001b[0;36m1\u001b[0m\u001b[0;34m:\u001b[0m\u001b[0;34m\u001b[0m\u001b[0;34m\u001b[0m\u001b[0m\n",
      "\u001b[0;32mpandas/_libs/index.pyx\u001b[0m in \u001b[0;36mpandas._libs.index.IndexEngine.get_loc\u001b[0;34m()\u001b[0m\n",
      "\u001b[0;32mpandas/_libs/index.pyx\u001b[0m in \u001b[0;36mpandas._libs.index.IndexEngine.get_loc\u001b[0;34m()\u001b[0m\n",
      "\u001b[0;32mpandas/_libs/hashtable_class_helper.pxi\u001b[0m in \u001b[0;36mpandas._libs.hashtable.PyObjectHashTable.get_item\u001b[0;34m()\u001b[0m\n",
      "\u001b[0;32mpandas/_libs/hashtable_class_helper.pxi\u001b[0m in \u001b[0;36mpandas._libs.hashtable.PyObjectHashTable.get_item\u001b[0;34m()\u001b[0m\n",
      "\u001b[0;31mKeyError\u001b[0m: '醫事機構地址'"
     ]
    }
   ],
   "source": [
    "save = data['醫事機構地址']\n",
    "save.to_csv('data.csv',index=False, header=True)\n"
   ]
  },
  {
   "cell_type": "code",
   "execution_count": null,
   "metadata": {},
   "outputs": [],
   "source": []
  },
  {
   "cell_type": "code",
   "execution_count": 14,
   "metadata": {},
   "outputs": [
    {
     "data": {
      "text/plain": [
       "Index(['0145080011', '0291010010', '2101010013', '2101020019', '2101090011',\n",
       "       '2101100227', '2101110027', '2101120014', '2101150012', '2101161033',\n",
       "       ...\n",
       "       '5946101065', '5990010515', '5990010524', '5990010533', '5990010542',\n",
       "       '5990010631', '5990010668', '5990010677', '5990030044', '5990030062'],\n",
       "      dtype='object', name='醫事機構代碼', length=6355)"
      ]
     },
     "execution_count": 14,
     "metadata": {},
     "output_type": "execute_result"
    }
   ],
   "source": [
    "data.index"
   ]
  },
  {
   "cell_type": "code",
   "execution_count": 19,
   "metadata": {},
   "outputs": [
    {
     "data": {
      "text/plain": [
       "{'醫事機構名稱': '松山健康服務中心',\n",
       " '醫事機構地址': '臺北市松山區八德路４段６９４號１、２樓',\n",
       " '醫事機構電話': '(02)27653147'}"
      ]
     },
     "execution_count": 19,
     "metadata": {},
     "output_type": "execute_result"
    }
   ],
   "source": [
    "loaded_json['2101010013']"
   ]
  },
  {
   "cell_type": "code",
   "execution_count": 25,
   "metadata": {},
   "outputs": [
    {
     "data": {
      "text/plain": [
       "醫事機構名稱          信義健康服務中心\n",
       "醫事機構地址    臺北市信義區信義路５段１５號\n",
       "醫事機構電話      (02)87804152\n",
       "Name: 2101170050, dtype: object"
      ]
     },
     "execution_count": 25,
     "metadata": {},
     "output_type": "execute_result"
    }
   ],
   "source": [
    "test = pd.read_json('search.json')\n",
    "test['2101170050']"
   ]
  },
  {
   "cell_type": "code",
   "execution_count": null,
   "metadata": {},
   "outputs": [],
   "source": [
    "121.533012 25.042385"
   ]
  },
  {
   "cell_type": "code",
   "execution_count": 29,
   "metadata": {},
   "outputs": [
    {
     "name": "stdout",
     "output_type": "stream",
     "text": [
      "1.4289073380727667e-05 4.818547157161257e-05\n"
     ]
    }
   ],
   "source": [
    "import math\n",
    "\n",
    "test1 = {\n",
    "    \"x\":121.558489,\n",
    "    \"y\":25.058709\n",
    "}\n",
    "test2 = {\n",
    "    \"x\":121.553125,\n",
    "    \"y\":25.057129\n",
    "}\n",
    "dif_x = abs(test1[\"x\"]-test2[\"x\"])\n",
    "dif_y = abs(test1[\"y\"]-test2[\"y\"])\n",
    "\n",
    "y_km = dif_y/110.574\n",
    "x_km = dif_x/(111.320*math.cos(dif_y))\n",
    "\n",
    "print(y_km,x_km)\n",
    "# Latitude 緯度 y Longitude 經度 x\n",
    "#Latitude: 1 deg = 110.574 km\n",
    "#Longitude: 1 deg = 111.320*cos(latitude) km"
   ]
  },
  {
   "cell_type": "code",
   "execution_count": 36,
   "metadata": {},
   "outputs": [
    {
     "name": "stdout",
     "output_type": "stream",
     "text": [
      "0.04521858664785573 0.04496151778796343\n"
     ]
    }
   ],
   "source": [
    "d = 5\n",
    "sh_y = d*1/110.574\n",
    "sh_x = d*1/(111.320*math.cos(sh_y)) \n",
    "print(sh_y, sh_x)"
   ]
  },
  {
   "cell_type": "code",
   "execution_count": null,
   "metadata": {},
   "outputs": [],
   "source": []
  },
  {
   "cell_type": "code",
   "execution_count": null,
   "metadata": {},
   "outputs": [],
   "source": []
  },
  {
   "cell_type": "code",
   "execution_count": null,
   "metadata": {},
   "outputs": [],
   "source": []
  },
  {
   "cell_type": "code",
   "execution_count": null,
   "metadata": {},
   "outputs": [],
   "source": []
  },
  {
   "cell_type": "code",
   "execution_count": null,
   "metadata": {},
   "outputs": [],
   "source": []
  },
  {
   "cell_type": "code",
   "execution_count": null,
   "metadata": {},
   "outputs": [],
   "source": []
  },
  {
   "cell_type": "code",
   "execution_count": null,
   "metadata": {},
   "outputs": [],
   "source": []
  },
  {
   "cell_type": "code",
   "execution_count": null,
   "metadata": {},
   "outputs": [],
   "source": []
  },
  {
   "cell_type": "code",
   "execution_count": null,
   "metadata": {},
   "outputs": [],
   "source": []
  },
  {
   "cell_type": "code",
   "execution_count": null,
   "metadata": {},
   "outputs": [],
   "source": []
  },
  {
   "cell_type": "code",
   "execution_count": null,
   "metadata": {},
   "outputs": [],
   "source": [
    "\n"
   ]
  },
  {
   "cell_type": "code",
   "execution_count": null,
   "metadata": {},
   "outputs": [],
   "source": []
  },
  {
   "cell_type": "code",
   "execution_count": null,
   "metadata": {},
   "outputs": [],
   "source": []
  },
  {
   "cell_type": "code",
   "execution_count": null,
   "metadata": {},
   "outputs": [],
   "source": []
  }
 ],
 "metadata": {
  "kernelspec": {
   "display_name": "Python 3",
   "language": "python",
   "name": "python3"
  },
  "language_info": {
   "codemirror_mode": {
    "name": "ipython",
    "version": 3
   },
   "file_extension": ".py",
   "mimetype": "text/x-python",
   "name": "python",
   "nbconvert_exporter": "python",
   "pygments_lexer": "ipython3",
   "version": "3.7.4"
  }
 },
 "nbformat": 4,
 "nbformat_minor": 2
}
